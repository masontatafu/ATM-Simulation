{
 "cells": [
  {
   "cell_type": "markdown",
   "metadata": {
    "id": "N7ujyF7t7ftU"
   },
   "source": [
    "# CIS 443-01 - Analytics Programming\n",
    "## Lab 1\n",
    "__Grading ID__: F0000 (double click the cell in Jupyter to edit, find ID in Blackboard Gradebook)<br>\n",
    "__Due__: Monday, January 23rd (by 11:59 PM)<br />\n",
    "__Worth__: 25 pts."
   ]
  },
  {
   "cell_type": "markdown",
   "metadata": {
    "id": "O3yW8iNL7ftY"
   },
   "source": [
    "### Directions\n",
    "In the code cell below, write Python code to accomplish the following using what you've learned through Chapter 2. Prompt the user to enter a whole dollar amount (from 1 - 99 for this application) to be withdrawn from our virtual ATM. Use the input gathering techniques demonstrated in Section 2.6 to gather this input. For the moment, you may assume that the user follows your directions for the input (namely, entering an integer between 1 and 99 inclusive). Calculate and print the number of bills of each denomination (twenties, tens, fives, and ones) that should be dispensed, minimizing the total number of bills used. Start with twenties and work your way down to ones. If no bills of a particular denomination are needed, skip that bill in the output using `if` statements as demonstrated in Section 2.7 of the text. (25 pts.)\n",
    "### Sample Output\n",
    "<div class=\"alert alert-block alert-info\">\n",
    "    Welcome to the CIS 443 Virtual ATM!<br />\n",
    "    Enter whole dollar amount (1 - 99): 94<br /><br />\n",
    "    Dispense:<br />\n",
    "    4 twenties<br />\n",
    "    1 tens<br />\n",
    "    4 ones<br />\n",
    "</div>\n",
    "\n",
    "**Note**: No _fives_ are printed in the above example because the entered dollar amount didn't require any. Your code, however, must include logic for every denomination (twenties, tens, fives, and ones). An easy way to approach this problem is with the use of floor division (//) and remainder (%) operations."
   ]
  },
  {
   "cell_type": "code",
   "execution_count": 6,
   "metadata": {
    "id": "hbVAutvP7ftZ"
   },
   "outputs": [
    {
     "name": "stdout",
     "output_type": "stream",
     "text": [
      "Welcome to the CIS virtual ATM\n"
     ]
    },
    {
     "name": "stdin",
     "output_type": "stream",
     "text": [
      "Enter whole number between 1-99 99\n"
     ]
    },
    {
     "name": "stdout",
     "output_type": "stream",
     "text": [
      "Dispense: \n",
      "4 Twenties\n",
      "1 Tens\n",
      "1 Fives\n",
      "4 Ones\n"
     ]
    }
   ],
   "source": [
    "# Put your code here\n",
    "print(\"Welcome to the CIS virtual ATM\")\n",
    "user_number = int(input(\"Enter whole number between 1-99\"))\n",
    "twenties = 0\n",
    "tens = 0\n",
    "fives = 0\n",
    "ones = 0\n",
    "\n",
    "if user_number >= 20:\n",
    "    twenties = user_number // 20\n",
    "    user_number = user_number % 20\n",
    "\n",
    "if user_number >= 10:\n",
    "    tens = user_number // 10\n",
    "    user_number = user_number % 10\n",
    "\n",
    "if user_number >= 5:\n",
    "    fives = user_number // 5\n",
    "    user_number = user_number % 5\n",
    "\n",
    "if user_number >= 1:\n",
    "    ones = user_number // 1\n",
    "\n",
    "print(\"Dispense: \\n\" + str(twenties) + \" Twenties\\n\" + str(tens) + \" Tens\\n\" + str(fives) + \" Fives\\n\" + str(ones) + \" Ones\")\n",
    "\n"
   ]
  },
  {
   "cell_type": "markdown",
   "metadata": {
    "id": "Cx9ButDL7ftb"
   },
   "source": [
    "Be sure to save and exit your Jupyter Notebook and Shutdown Jupyter Lab (from the __File__ menu) if using Ananconda before you submit your notebook on Blackboard for grading. If using Colab, be sure to Download (from the __File__ menu) back to your local file system before submitting to Blackboard.\n",
    "Make sure you don't submit the empty starting notebook by accident."
   ]
  }
 ],
 "metadata": {
  "colab": {
   "collapsed_sections": [],
   "name": "Lab1.ipynb",
   "provenance": []
  },
  "kernelspec": {
   "display_name": "Python 3 (ipykernel)",
   "language": "python",
   "name": "python3"
  },
  "language_info": {
   "codemirror_mode": {
    "name": "ipython",
    "version": 3
   },
   "file_extension": ".py",
   "mimetype": "text/x-python",
   "name": "python",
   "nbconvert_exporter": "python",
   "pygments_lexer": "ipython3",
   "version": "3.12.4"
  }
 },
 "nbformat": 4,
 "nbformat_minor": 4
}
